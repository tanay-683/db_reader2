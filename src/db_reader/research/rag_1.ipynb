{
 "cells": [
  {
   "cell_type": "code",
   "execution_count": 30,
   "metadata": {},
   "outputs": [],
   "source": [
    "import pandas as pd"
   ]
  },
  {
   "cell_type": "code",
   "execution_count": 1,
   "metadata": {},
   "outputs": [],
   "source": [
    "from sqlalchemy import create_engine\n",
    "import os\n",
    "\n",
    "SERVER:str = os.getenv(\"IP\")\n",
    "USERNAME: str = os.getenv(\"USERNAME\")\n",
    "PASSWORD: str = os.getenv(\"PASSWORD\")\n",
    "DATABASE: str = os.getenv(\"DATABASE_NAME\")\n",
    "ENCODED_PASSWORD: str = os.getenv(\"ENCODED_PASSWORD\")\n",
    "\n",
    "connection_uri = f'mssql+pymssql://{USERNAME}:{ENCODED_PASSWORD}@{SERVER}/{DATABASE}'\n",
    "engine = create_engine(connection_uri, pool_size=5, max_overflow=10)\n"
   ]
  },
  {
   "cell_type": "code",
   "execution_count": 56,
   "metadata": {},
   "outputs": [],
   "source": [
    "from llama_index.core import Settings\n",
    "from llama_index.embeddings.huggingface import HuggingFaceEmbedding\n",
    "from llama_index.core.node_parser import SentenceSplitter\n",
    "\n",
    "Settings.node_parser = SentenceSplitter(chunk_size=512)\n",
    "Settings.embed_model = HuggingFaceEmbedding(model_name= \"sentence-transformers/all-mpnet-base-v2\")"
   ]
  },
  {
   "cell_type": "code",
   "execution_count": 71,
   "metadata": {},
   "outputs": [],
   "source": [
    "from llama_index.llms.ollama import Ollama\n",
    "Settings.llm = Ollama(model=\"gemma2:2b\", request_timeout=100)"
   ]
  },
  {
   "cell_type": "code",
   "execution_count": 73,
   "metadata": {},
   "outputs": [],
   "source": [
    "from llama_index.core import SimpleDirectoryReader\n",
    "\n",
    "documents = SimpleDirectoryReader(\"/home/tanay/db_reader2/src/db_reader/context\").load_data()"
   ]
  },
  {
   "cell_type": "code",
   "execution_count": 74,
   "metadata": {},
   "outputs": [],
   "source": [
    "from llama_index.core import VectorStoreIndex\n",
    "index = VectorStoreIndex.from_documents(\n",
    "    documents, embed_model = Settings.embed_model\n",
    ")\n",
    "query_engine = index.as_query_engine(llm=Settings.llm)"
   ]
  },
  {
   "cell_type": "code",
   "execution_count": 75,
   "metadata": {},
   "outputs": [],
   "source": [
    "query = \"show me all loans above 500000\""
   ]
  },
  {
   "cell_type": "code",
   "execution_count": 77,
   "metadata": {},
   "outputs": [],
   "source": [
    "response = query_engine.query(query)"
   ]
  },
  {
   "cell_type": "code",
   "execution_count": 80,
   "metadata": {},
   "outputs": [
    {
     "data": {
      "text/plain": [
       "Response(response='I am unable to provide a specific list of loans above 500000 based on the provided context. The context only describes the schema for the `LMS_Loan_Master` table.  It does not contain information about individual loan balances or any criteria to filter for loans exceeding a certain amount like 500,000.  \\n', source_nodes=[NodeWithScore(node=TextNode(id_='0c4f0d9e-3d30-445a-9eb8-add1159c761f', embedding=None, metadata={'file_path': '/home/tanay/db_reader2/src/db_reader/context/table_schema.txt', 'file_name': 'table_schema.txt', 'file_type': 'text/plain', 'file_size': 17091, 'creation_date': '2024-12-26', 'last_modified_date': '2024-12-26'}, excluded_embed_metadata_keys=['file_name', 'file_type', 'file_size', 'creation_date', 'last_modified_date', 'last_accessed_date'], excluded_llm_metadata_keys=['file_name', 'file_type', 'file_size', 'creation_date', 'last_modified_date', 'last_accessed_date'], relationships={<NodeRelationship.SOURCE: '1'>: RelatedNodeInfo(node_id='6f458365-5d45-4590-bfc3-23323113b683', node_type='4', metadata={'file_path': '/home/tanay/db_reader2/src/db_reader/context/table_schema.txt', 'file_name': 'table_schema.txt', 'file_type': 'text/plain', 'file_size': 17091, 'creation_date': '2024-12-26', 'last_modified_date': '2024-12-26'}, hash='0297ef4c192701a33e364f437b0f86e234deac99f41715fcfebfda7a57684292'), <NodeRelationship.PREVIOUS: '2'>: RelatedNodeInfo(node_id='cd05a7d8-3030-46e2-9b91-a2f3f9f40a36', node_type='1', metadata={'file_path': '/home/tanay/db_reader2/src/db_reader/context/table_schema.txt', 'file_name': 'table_schema.txt', 'file_type': 'text/plain', 'file_size': 17091, 'creation_date': '2024-12-26', 'last_modified_date': '2024-12-26'}, hash='0fca2cca50df837b2381eae54bce338787cc509ec0e1931dfcd3f14a9a230bfc'), <NodeRelationship.NEXT: '3'>: RelatedNodeInfo(node_id='b30d02e9-cd69-4f23-9c0b-cd50d783850c', node_type='1', metadata={}, hash='c51dded07104d766c25d3e889f7e390da3424058ab0e9d115d0c69826b5b2aa5')}, metadata_template='{key}: {value}', metadata_separator='\\n', text='[IsFiTvrInfo] INTEGER NULL, \\n\\t[IsChequeDetailInfo] INTEGER NULL, \\n\\t[IsInsuranceInfo] INTEGER NULL, \\n\\t[IsRepaymentScheduleInfo] INTEGER NULL, \\n\\t[IsDvReportInfo] INTEGER NULL, \\n\\t[IsAmortizationInfos] INTEGER NULL, \\n\\t[IsNoteRecommendation] INTEGER NULL, \\n\\t[IsAttachment] INTEGER NULL, \\n\\t[IsLoanNo] INTEGER NULL, \\n\\t[LOS_ApplicationId] INTEGER NULL, \\n\\t[LoanCreatedOn] DATETIME NULL, \\n\\t[LoanClosed_Date] DATETIME NULL, \\n\\t[LoanClosed_By] INTEGER NULL, \\n\\t[SuitFiled] INTEGER NULL, \\n\\t[WriteOff_Settled_Status] INTEGER NULL, \\n\\t[Financial_CreatedBy] INTEGER NULL, \\n\\t[Financial_CreatedOn] DATETIME NULL, \\n\\t[Financial_ModifyBy] INTEGER NULL, \\n\\t[Financial_ModifyOn] DATETIME NULL\\n)\\n\\n/*\\n3 rows from LMS_Loan_Master table:\\nLoan_Id\\tApplication_BranchId\\tApplication_No\\tLoanAcNo\\tApplication_Status\\tApplication_InquiryNo\\tApplication_PrductId\\tApplication_AssetCost\\tApplication_LoanAmount\\tApplication_LoanTenure\\tApplication_LoanDuration_Month\\tApplication_AdvInstl\\tApplication_ManagementFee\\tApplication_DisbursementAmt\\tApplication_AgreementValue\\tApplication_InterestAmt\\tApplication_LTV\\tApplication_LoanEMIAmount\\tApplication_EMIType\\tApplication_LoanIRRate\\tApplication_IRR_Type\\tApplication_IRR_CalculateBy\\tApplication_Case_IRR\\tApplication_Disbursement_IRR\\tApplication_Loan_SchemeId\\tApplication_LoanPurpose\\tApplication_CreateOn\\tApplication_CreateBy\\tApplication_ApprovedLoanAmount\\tApplication_ApprovedLoanDouration_Month\\tApplication_CreditApprovalNote\\tApplication_ApproveDate\\tApplication_TotalDeduction\\tApplication_Account_CustomerId\\tApplication_ChequeAmount\\tApplication_ChequeNo\\tApplication_IRRate\\tApplication_BankName\\tApplication_BankBranch\\tApplication_IFSCCode\\tApplication_AccountNo\\tApplication_AccountHolderName\\tApplication_ChqueDate\\tApplication_EMIAmount\\tApplication_EMIMonthDay\\tApplication_FirstEMIDate\\tApplication_ExpiryDate\\tApplication_ModifyBy\\tApplication_ModifyOn\\tLoan_Date\\tIsActive\\tLoanAccountingId\\tLoanCreatedBy\\tSourceType\\tBranchHead\\tLeadSourceName\\tCollectionArea\\tSalesExecutive\\tCollectionSubarea\\tSourceArea\\tCollectionExecutive\\tLeadReference\\tIsLoanInfo\\tIsCustomerInfo\\tIsAccountInfo\\tIsAssetInfo\\tIsCrcInfo\\tIsFiTvrInfo\\tIsChequeDetailInfo\\tIsInsuranceInfo\\tIsRepaymentScheduleInfo\\tIsDvReportInfo\\tIsAmortizationInfos\\tIsNoteRecommendation\\tIsAttachment\\tIsLoanNo\\tLOS_ApplicationId\\tLoanCreatedOn\\tLoanClosed_Date\\tLoanClosed_By\\tSuitFiled\\tWriteOff_Settled_Status\\tFinancial_CreatedBy\\tFinancial_CreatedOn\\tFinancial_ModifyBy\\tFinancial_ModifyOn\\n1603\\t19\\t3691\\t3691\\tCompleted\\tNone\\t1\\t0.', mimetype='text/plain', start_char_idx=13096, end_char_idx=15545, metadata_seperator='\\n', text_template='{metadata_str}\\n\\n{content}'), score=0.4193768587092876), NodeWithScore(node=TextNode(id_='861dad12-f826-4707-8f20-96573461788f', embedding=None, metadata={'file_path': '/home/tanay/db_reader2/src/db_reader/context/table_schema.txt', 'file_name': 'table_schema.txt', 'file_type': 'text/plain', 'file_size': 17091, 'creation_date': '2024-12-26', 'last_modified_date': '2024-12-26'}, excluded_embed_metadata_keys=['file_name', 'file_type', 'file_size', 'creation_date', 'last_modified_date', 'last_accessed_date'], excluded_llm_metadata_keys=['file_name', 'file_type', 'file_size', 'creation_date', 'last_modified_date', 'last_accessed_date'], relationships={<NodeRelationship.SOURCE: '1'>: RelatedNodeInfo(node_id='6f458365-5d45-4590-bfc3-23323113b683', node_type='4', metadata={'file_path': '/home/tanay/db_reader2/src/db_reader/context/table_schema.txt', 'file_name': 'table_schema.txt', 'file_type': 'text/plain', 'file_size': 17091, 'creation_date': '2024-12-26', 'last_modified_date': '2024-12-26'}, hash='0297ef4c192701a33e364f437b0f86e234deac99f41715fcfebfda7a57684292'), <NodeRelationship.PREVIOUS: '2'>: RelatedNodeInfo(node_id='5b9ff871-90d9-435d-89fb-a455862133b4', node_type='1', metadata={'file_path': '/home/tanay/db_reader2/src/db_reader/context/table_schema.txt', 'file_name': 'table_schema.txt', 'file_type': 'text/plain', 'file_size': 17091, 'creation_date': '2024-12-26', 'last_modified_date': '2024-12-26'}, hash='d3e632c0f1c27367db8af7366695912eae579100ab9305dff3f242477293504f'), <NodeRelationship.NEXT: '3'>: RelatedNodeInfo(node_id='62515f58-08b5-4113-85c5-b0ffd6f6a789', node_type='1', metadata={}, hash='828cdbf902205fb08dc9032efb026e2fe8c2ba6f9ffc0873646075d690051fda')}, metadata_template='{key}: {value}', metadata_separator='\\n', text='CREATE TABLE [LMS_Loan_Master] (\\n\\t[Loan_Id] INTEGER NOT NULL IDENTITY(1,1), \\n\\t[Application_BranchId] INTEGER NOT NULL, \\n\\t[Application_No] VARCHAR(10) COLLATE SQL_Latin1_General_CP1_CI_AS NULL, \\n\\t[LoanAcNo] VARCHAR(10) COLLATE SQL_Latin1_General_CP1_CI_AS NULL, \\n\\t[Application_Status] VARCHAR(50) COLLATE SQL_Latin1_General_CP1_CI_AS NOT NULL, \\n\\t[Application_InquiryNo] VARCHAR(10) COLLATE SQL_Latin1_General_CP1_CI_AS NULL, \\n\\t[Application_PrductId] INTEGER NOT NULL, \\n\\t[Application_AssetCost] NUMERIC(18, 2) NULL, \\n\\t[Application_LoanAmount] NUMERIC(18, 2) NULL, \\n\\t[Application_LoanTenure] INTEGER NULL, \\n\\t[Application_LoanDuration_Month] INTEGER NULL, \\n\\t[Application_AdvInstl] INTEGER NULL, \\n\\t[Application_ManagementFee] NUMERIC(18, 2) NULL, \\n\\t[Application_DisbursementAmt] NUMERIC(18, 5) NULL, \\n\\t[Application_AgreementValue] NUMERIC(18, 5) NULL, \\n\\t[Application_InterestAmt] NUMERIC(18, 5) NULL, \\n\\t[Application_LTV] NUMERIC(18, 5) NULL, \\n\\t[Application_LoanEMIAmount] NUMERIC(18, 5) NULL, \\n\\t[Application_EMIType] VARCHAR(50) COLLATE SQL_Latin1_General_CP1_CI_AS NULL, \\n\\t[Application_LoanIRRate] NUMERIC(18, 10) NULL, \\n\\t[Application_IRR_Type] VARCHAR(10) COLLATE SQL_Latin1_General_CP1_CI_AS NULL, \\n\\t[Application_IRR_CalculateBy] VARCHAR(20) COLLATE SQL_Latin1_General_CP1_CI_AS NULL, \\n\\t[Application_Case_IRR] NUMERIC(18, 10) NULL, \\n\\t[Application_Disbursement_IRR] NUMERIC(18, 10) NULL, \\n\\t[Application_Loan_SchemeId] INTEGER NULL,', mimetype='text/plain', start_char_idx=9632, end_char_idx=11060, metadata_seperator='\\n', text_template='{metadata_str}\\n\\n{content}'), score=0.3932504730194504)], metadata={'0c4f0d9e-3d30-445a-9eb8-add1159c761f': {'file_path': '/home/tanay/db_reader2/src/db_reader/context/table_schema.txt', 'file_name': 'table_schema.txt', 'file_type': 'text/plain', 'file_size': 17091, 'creation_date': '2024-12-26', 'last_modified_date': '2024-12-26'}, '861dad12-f826-4707-8f20-96573461788f': {'file_path': '/home/tanay/db_reader2/src/db_reader/context/table_schema.txt', 'file_name': 'table_schema.txt', 'file_type': 'text/plain', 'file_size': 17091, 'creation_date': '2024-12-26', 'last_modified_date': '2024-12-26'}})"
      ]
     },
     "execution_count": 80,
     "metadata": {},
     "output_type": "execute_result"
    }
   ],
   "source": [
    "response"
   ]
  },
  {
   "cell_type": "code",
   "execution_count": 81,
   "metadata": {},
   "outputs": [
    {
     "name": "stdout",
     "output_type": "stream",
     "text": [
      "Response(response='I am unable to provide a specific list of loans above 500000 based on the provided context. The context only describes the schema for the `LMS_Loan_Master` table.  It does not contain information about individual loan balances or any criteria to filter for loans exceeding a certain amount like 500,000.  \n",
      "', source_nodes=[NodeWithScore(node=TextNode(id_='0c4f0d9e-3d30-445a-9eb8-add1159c761f', embedding=None, metadata={'file_path': '/home/tanay/db_reader2/src/db_reader/context/table_schema.txt', 'file_name': 'table_schema.txt', 'file_type': 'text/plain', 'file_size': 17091, 'creation_date': '2024-12-26', 'last_modified_date': '2024-12-26'}, excluded_embed_metadata_keys=['file_name', 'file_type', 'file_size', 'creation_date', 'last_modified_date', 'last_accessed_date'], excluded_llm_metadata_keys=['file_name', 'file_type', 'file_size', 'creation_date', 'last_modified_date', 'last_accessed_date'], relationships={<NodeRelationship.SOURCE: '1'>: RelatedNodeInfo(node_id='6f458365-5d45-4590-bfc3-23323113b683', node_type='4', metadata={'file_path': '/home/tanay/db_reader2/src/db_reader/context/table_schema.txt', 'file_name': 'table_schema.txt', 'file_type': 'text/plain', 'file_size': 17091, 'creation_date': '2024-12-26', 'last_modified_date': '2024-12-26'}, hash='0297ef4c192701a33e364f437b0f86e234deac99f41715fcfebfda7a57684292'), <NodeRelationship.PREVIOUS: '2'>: RelatedNodeInfo(node_id='cd05a7d8-3030-46e2-9b91-a2f3f9f40a36', node_type='1', metadata={'file_path': '/home/tanay/db_reader2/src/db_reader/context/table_schema.txt', 'file_name': 'table_schema.txt', 'file_type': 'text/plain', 'file_size': 17091, 'creation_date': '2024-12-26', 'last_modified_date': '2024-12-26'}, hash='0fca2cca50df837b2381eae54bce338787cc509ec0e1931dfcd3f14a9a230bfc'), <NodeRelationship.NEXT: '3'>: RelatedNodeInfo(node_id='b30d02e9-cd69-4f23-9c0b-cd50d783850c', node_type='1', metadata={}, hash='c51dded07104d766c25d3e889f7e390da3424058ab0e9d115d0c69826b5b2aa5')}, metadata_template='{key}: {value}', metadata_separator='\n",
      "', text='[IsFiTvrInfo] INTEGER NULL, \n",
      "\t[IsChequeDetailInfo] INTEGER NULL, \n",
      "\t[IsInsuranceInfo] INTEGER NULL, \n",
      "\t[IsRepaymentScheduleInfo] INTEGER NULL, \n",
      "\t[IsDvReportInfo] INTEGER NULL, \n",
      "\t[IsAmortizationInfos] INTEGER NULL, \n",
      "\t[IsNoteRecommendation] INTEGER NULL, \n",
      "\t[IsAttachment] INTEGER NULL, \n",
      "\t[IsLoanNo] INTEGER NULL, \n",
      "\t[LOS_ApplicationId] INTEGER NULL, \n",
      "\t[LoanCreatedOn] DATETIME NULL, \n",
      "\t[LoanClosed_Date] DATETIME NULL, \n",
      "\t[LoanClosed_By] INTEGER NULL, \n",
      "\t[SuitFiled] INTEGER NULL, \n",
      "\t[WriteOff_Settled_Status] INTEGER NULL, \n",
      "\t[Financial_CreatedBy] INTEGER NULL, \n",
      "\t[Financial_CreatedOn] DATETIME NULL, \n",
      "\t[Financial_ModifyBy] INTEGER NULL, \n",
      "\t[Financial_ModifyOn] DATETIME NULL\n",
      ")\n",
      "\n",
      "/*\n",
      "3 rows from LMS_Loan_Master table:\n",
      "Loan_Id\tApplication_BranchId\tApplication_No\tLoanAcNo\tApplication_Status\tApplication_InquiryNo\tApplication_PrductId\tApplication_AssetCost\tApplication_LoanAmount\tApplication_LoanTenure\tApplication_LoanDuration_Month\tApplication_AdvInstl\tApplication_ManagementFee\tApplication_DisbursementAmt\tApplication_AgreementValue\tApplication_InterestAmt\tApplication_LTV\tApplication_LoanEMIAmount\tApplication_EMIType\tApplication_LoanIRRate\tApplication_IRR_Type\tApplication_IRR_CalculateBy\tApplication_Case_IRR\tApplication_Disbursement_IRR\tApplication_Loan_SchemeId\tApplication_LoanPurpose\tApplication_CreateOn\tApplication_CreateBy\tApplication_ApprovedLoanAmount\tApplication_ApprovedLoanDouration_Month\tApplication_CreditApprovalNote\tApplication_ApproveDate\tApplication_TotalDeduction\tApplication_Account_CustomerId\tApplication_ChequeAmount\tApplication_ChequeNo\tApplication_IRRate\tApplication_BankName\tApplication_BankBranch\tApplication_IFSCCode\tApplication_AccountNo\tApplication_AccountHolderName\tApplication_ChqueDate\tApplication_EMIAmount\tApplication_EMIMonthDay\tApplication_FirstEMIDate\tApplication_ExpiryDate\tApplication_ModifyBy\tApplication_ModifyOn\tLoan_Date\tIsActive\tLoanAccountingId\tLoanCreatedBy\tSourceType\tBranchHead\tLeadSourceName\tCollectionArea\tSalesExecutive\tCollectionSubarea\tSourceArea\tCollectionExecutive\tLeadReference\tIsLoanInfo\tIsCustomerInfo\tIsAccountInfo\tIsAssetInfo\tIsCrcInfo\tIsFiTvrInfo\tIsChequeDetailInfo\tIsInsuranceInfo\tIsRepaymentScheduleInfo\tIsDvReportInfo\tIsAmortizationInfos\tIsNoteRecommendation\tIsAttachment\tIsLoanNo\tLOS_ApplicationId\tLoanCreatedOn\tLoanClosed_Date\tLoanClosed_By\tSuitFiled\tWriteOff_Settled_Status\tFinancial_CreatedBy\tFinancial_CreatedOn\tFinancial_ModifyBy\tFinancial_ModifyOn\n",
      "1603\t19\t3691\t3691\tCompleted\tNone\t1\t0.', mimetype='text/plain', start_char_idx=13096, end_char_idx=15545, metadata_seperator='\n",
      "', text_template='{metadata_str}\n",
      "\n",
      "{content}'), score=0.4193768587092876), NodeWithScore(node=TextNode(id_='861dad12-f826-4707-8f20-96573461788f', embedding=None, metadata={'file_path': '/home/tanay/db_reader2/src/db_reader/context/table_schema.txt', 'file_name': 'table_schema.txt', 'file_type': 'text/plain', 'file_size': 17091, 'creation_date': '2024-12-26', 'last_modified_date': '2024-12-26'}, excluded_embed_metadata_keys=['file_name', 'file_type', 'file_size', 'creation_date', 'last_modified_date', 'last_accessed_date'], excluded_llm_metadata_keys=['file_name', 'file_type', 'file_size', 'creation_date', 'last_modified_date', 'last_accessed_date'], relationships={<NodeRelationship.SOURCE: '1'>: RelatedNodeInfo(node_id='6f458365-5d45-4590-bfc3-23323113b683', node_type='4', metadata={'file_path': '/home/tanay/db_reader2/src/db_reader/context/table_schema.txt', 'file_name': 'table_schema.txt', 'file_type': 'text/plain', 'file_size': 17091, 'creation_date': '2024-12-26', 'last_modified_date': '2024-12-26'}, hash='0297ef4c192701a33e364f437b0f86e234deac99f41715fcfebfda7a57684292'), <NodeRelationship.PREVIOUS: '2'>: RelatedNodeInfo(node_id='5b9ff871-90d9-435d-89fb-a455862133b4', node_type='1', metadata={'file_path': '/home/tanay/db_reader2/src/db_reader/context/table_schema.txt', 'file_name': 'table_schema.txt', 'file_type': 'text/plain', 'file_size': 17091, 'creation_date': '2024-12-26', 'last_modified_date': '2024-12-26'}, hash='d3e632c0f1c27367db8af7366695912eae579100ab9305dff3f242477293504f'), <NodeRelationship.NEXT: '3'>: RelatedNodeInfo(node_id='62515f58-08b5-4113-85c5-b0ffd6f6a789', node_type='1', metadata={}, hash='828cdbf902205fb08dc9032efb026e2fe8c2ba6f9ffc0873646075d690051fda')}, metadata_template='{key}: {value}', metadata_separator='\n",
      "', text='CREATE TABLE [LMS_Loan_Master] (\n",
      "\t[Loan_Id] INTEGER NOT NULL IDENTITY(1,1), \n",
      "\t[Application_BranchId] INTEGER NOT NULL, \n",
      "\t[Application_No] VARCHAR(10) COLLATE SQL_Latin1_General_CP1_CI_AS NULL, \n",
      "\t[LoanAcNo] VARCHAR(10) COLLATE SQL_Latin1_General_CP1_CI_AS NULL, \n",
      "\t[Application_Status] VARCHAR(50) COLLATE SQL_Latin1_General_CP1_CI_AS NOT NULL, \n",
      "\t[Application_InquiryNo] VARCHAR(10) COLLATE SQL_Latin1_General_CP1_CI_AS NULL, \n",
      "\t[Application_PrductId] INTEGER NOT NULL, \n",
      "\t[Application_AssetCost] NUMERIC(18, 2) NULL, \n",
      "\t[Application_LoanAmount] NUMERIC(18, 2) NULL, \n",
      "\t[Application_LoanTenure] INTEGER NULL, \n",
      "\t[Application_LoanDuration_Month] INTEGER NULL, \n",
      "\t[Application_AdvInstl] INTEGER NULL, \n",
      "\t[Application_ManagementFee] NUMERIC(18, 2) NULL, \n",
      "\t[Application_DisbursementAmt] NUMERIC(18, 5) NULL, \n",
      "\t[Application_AgreementValue] NUMERIC(18, 5) NULL, \n",
      "\t[Application_InterestAmt] NUMERIC(18, 5) NULL, \n",
      "\t[Application_LTV] NUMERIC(18, 5) NULL, \n",
      "\t[Application_LoanEMIAmount] NUMERIC(18, 5) NULL, \n",
      "\t[Application_EMIType] VARCHAR(50) COLLATE SQL_Latin1_General_CP1_CI_AS NULL, \n",
      "\t[Application_LoanIRRate] NUMERIC(18, 10) NULL, \n",
      "\t[Application_IRR_Type] VARCHAR(10) COLLATE SQL_Latin1_General_CP1_CI_AS NULL, \n",
      "\t[Application_IRR_CalculateBy] VARCHAR(20) COLLATE SQL_Latin1_General_CP1_CI_AS NULL, \n",
      "\t[Application_Case_IRR] NUMERIC(18, 10) NULL, \n",
      "\t[Application_Disbursement_IRR] NUMERIC(18, 10) NULL, \n",
      "\t[Application_Loan_SchemeId] INTEGER NULL,', mimetype='text/plain', start_char_idx=9632, end_char_idx=11060, metadata_seperator='\n",
      "', text_template='{metadata_str}\n",
      "\n",
      "{content}'), score=0.3932504730194504)], metadata={'0c4f0d9e-3d30-445a-9eb8-add1159c761f': {'file_path': '/home/tanay/db_reader2/src/db_reader/context/table_schema.txt', 'file_name': 'table_schema.txt', 'file_type': 'text/plain', 'file_size': 17091, 'creation_date': '2024-12-26', 'last_modified_date': '2024-12-26'}, '861dad12-f826-4707-8f20-96573461788f': {'file_path': '/home/tanay/db_reader2/src/db_reader/context/table_schema.txt', 'file_name': 'table_schema.txt', 'file_type': 'text/plain', 'file_size': 17091, 'creation_date': '2024-12-26', 'last_modified_date': '2024-12-26'}})\n"
     ]
    }
   ],
   "source": [
    "print(\"\"\"Response(response='I am unable to provide a specific list of loans above 500000 based on the provided context. The context only describes the schema for the `LMS_Loan_Master` table.  It does not contain information about individual loan balances or any criteria to filter for loans exceeding a certain amount like 500,000.  \\n', source_nodes=[NodeWithScore(node=TextNode(id_='0c4f0d9e-3d30-445a-9eb8-add1159c761f', embedding=None, metadata={'file_path': '/home/tanay/db_reader2/src/db_reader/context/table_schema.txt', 'file_name': 'table_schema.txt', 'file_type': 'text/plain', 'file_size': 17091, 'creation_date': '2024-12-26', 'last_modified_date': '2024-12-26'}, excluded_embed_metadata_keys=['file_name', 'file_type', 'file_size', 'creation_date', 'last_modified_date', 'last_accessed_date'], excluded_llm_metadata_keys=['file_name', 'file_type', 'file_size', 'creation_date', 'last_modified_date', 'last_accessed_date'], relationships={<NodeRelationship.SOURCE: '1'>: RelatedNodeInfo(node_id='6f458365-5d45-4590-bfc3-23323113b683', node_type='4', metadata={'file_path': '/home/tanay/db_reader2/src/db_reader/context/table_schema.txt', 'file_name': 'table_schema.txt', 'file_type': 'text/plain', 'file_size': 17091, 'creation_date': '2024-12-26', 'last_modified_date': '2024-12-26'}, hash='0297ef4c192701a33e364f437b0f86e234deac99f41715fcfebfda7a57684292'), <NodeRelationship.PREVIOUS: '2'>: RelatedNodeInfo(node_id='cd05a7d8-3030-46e2-9b91-a2f3f9f40a36', node_type='1', metadata={'file_path': '/home/tanay/db_reader2/src/db_reader/context/table_schema.txt', 'file_name': 'table_schema.txt', 'file_type': 'text/plain', 'file_size': 17091, 'creation_date': '2024-12-26', 'last_modified_date': '2024-12-26'}, hash='0fca2cca50df837b2381eae54bce338787cc509ec0e1931dfcd3f14a9a230bfc'), <NodeRelationship.NEXT: '3'>: RelatedNodeInfo(node_id='b30d02e9-cd69-4f23-9c0b-cd50d783850c', node_type='1', metadata={}, hash='c51dded07104d766c25d3e889f7e390da3424058ab0e9d115d0c69826b5b2aa5')}, metadata_template='{key}: {value}', metadata_separator='\\n', text='[IsFiTvrInfo] INTEGER NULL, \\n\\t[IsChequeDetailInfo] INTEGER NULL, \\n\\t[IsInsuranceInfo] INTEGER NULL, \\n\\t[IsRepaymentScheduleInfo] INTEGER NULL, \\n\\t[IsDvReportInfo] INTEGER NULL, \\n\\t[IsAmortizationInfos] INTEGER NULL, \\n\\t[IsNoteRecommendation] INTEGER NULL, \\n\\t[IsAttachment] INTEGER NULL, \\n\\t[IsLoanNo] INTEGER NULL, \\n\\t[LOS_ApplicationId] INTEGER NULL, \\n\\t[LoanCreatedOn] DATETIME NULL, \\n\\t[LoanClosed_Date] DATETIME NULL, \\n\\t[LoanClosed_By] INTEGER NULL, \\n\\t[SuitFiled] INTEGER NULL, \\n\\t[WriteOff_Settled_Status] INTEGER NULL, \\n\\t[Financial_CreatedBy] INTEGER NULL, \\n\\t[Financial_CreatedOn] DATETIME NULL, \\n\\t[Financial_ModifyBy] INTEGER NULL, \\n\\t[Financial_ModifyOn] DATETIME NULL\\n)\\n\\n/*\\n3 rows from LMS_Loan_Master table:\\nLoan_Id\\tApplication_BranchId\\tApplication_No\\tLoanAcNo\\tApplication_Status\\tApplication_InquiryNo\\tApplication_PrductId\\tApplication_AssetCost\\tApplication_LoanAmount\\tApplication_LoanTenure\\tApplication_LoanDuration_Month\\tApplication_AdvInstl\\tApplication_ManagementFee\\tApplication_DisbursementAmt\\tApplication_AgreementValue\\tApplication_InterestAmt\\tApplication_LTV\\tApplication_LoanEMIAmount\\tApplication_EMIType\\tApplication_LoanIRRate\\tApplication_IRR_Type\\tApplication_IRR_CalculateBy\\tApplication_Case_IRR\\tApplication_Disbursement_IRR\\tApplication_Loan_SchemeId\\tApplication_LoanPurpose\\tApplication_CreateOn\\tApplication_CreateBy\\tApplication_ApprovedLoanAmount\\tApplication_ApprovedLoanDouration_Month\\tApplication_CreditApprovalNote\\tApplication_ApproveDate\\tApplication_TotalDeduction\\tApplication_Account_CustomerId\\tApplication_ChequeAmount\\tApplication_ChequeNo\\tApplication_IRRate\\tApplication_BankName\\tApplication_BankBranch\\tApplication_IFSCCode\\tApplication_AccountNo\\tApplication_AccountHolderName\\tApplication_ChqueDate\\tApplication_EMIAmount\\tApplication_EMIMonthDay\\tApplication_FirstEMIDate\\tApplication_ExpiryDate\\tApplication_ModifyBy\\tApplication_ModifyOn\\tLoan_Date\\tIsActive\\tLoanAccountingId\\tLoanCreatedBy\\tSourceType\\tBranchHead\\tLeadSourceName\\tCollectionArea\\tSalesExecutive\\tCollectionSubarea\\tSourceArea\\tCollectionExecutive\\tLeadReference\\tIsLoanInfo\\tIsCustomerInfo\\tIsAccountInfo\\tIsAssetInfo\\tIsCrcInfo\\tIsFiTvrInfo\\tIsChequeDetailInfo\\tIsInsuranceInfo\\tIsRepaymentScheduleInfo\\tIsDvReportInfo\\tIsAmortizationInfos\\tIsNoteRecommendation\\tIsAttachment\\tIsLoanNo\\tLOS_ApplicationId\\tLoanCreatedOn\\tLoanClosed_Date\\tLoanClosed_By\\tSuitFiled\\tWriteOff_Settled_Status\\tFinancial_CreatedBy\\tFinancial_CreatedOn\\tFinancial_ModifyBy\\tFinancial_ModifyOn\\n1603\\t19\\t3691\\t3691\\tCompleted\\tNone\\t1\\t0.', mimetype='text/plain', start_char_idx=13096, end_char_idx=15545, metadata_seperator='\\n', text_template='{metadata_str}\\n\\n{content}'), score=0.4193768587092876), NodeWithScore(node=TextNode(id_='861dad12-f826-4707-8f20-96573461788f', embedding=None, metadata={'file_path': '/home/tanay/db_reader2/src/db_reader/context/table_schema.txt', 'file_name': 'table_schema.txt', 'file_type': 'text/plain', 'file_size': 17091, 'creation_date': '2024-12-26', 'last_modified_date': '2024-12-26'}, excluded_embed_metadata_keys=['file_name', 'file_type', 'file_size', 'creation_date', 'last_modified_date', 'last_accessed_date'], excluded_llm_metadata_keys=['file_name', 'file_type', 'file_size', 'creation_date', 'last_modified_date', 'last_accessed_date'], relationships={<NodeRelationship.SOURCE: '1'>: RelatedNodeInfo(node_id='6f458365-5d45-4590-bfc3-23323113b683', node_type='4', metadata={'file_path': '/home/tanay/db_reader2/src/db_reader/context/table_schema.txt', 'file_name': 'table_schema.txt', 'file_type': 'text/plain', 'file_size': 17091, 'creation_date': '2024-12-26', 'last_modified_date': '2024-12-26'}, hash='0297ef4c192701a33e364f437b0f86e234deac99f41715fcfebfda7a57684292'), <NodeRelationship.PREVIOUS: '2'>: RelatedNodeInfo(node_id='5b9ff871-90d9-435d-89fb-a455862133b4', node_type='1', metadata={'file_path': '/home/tanay/db_reader2/src/db_reader/context/table_schema.txt', 'file_name': 'table_schema.txt', 'file_type': 'text/plain', 'file_size': 17091, 'creation_date': '2024-12-26', 'last_modified_date': '2024-12-26'}, hash='d3e632c0f1c27367db8af7366695912eae579100ab9305dff3f242477293504f'), <NodeRelationship.NEXT: '3'>: RelatedNodeInfo(node_id='62515f58-08b5-4113-85c5-b0ffd6f6a789', node_type='1', metadata={}, hash='828cdbf902205fb08dc9032efb026e2fe8c2ba6f9ffc0873646075d690051fda')}, metadata_template='{key}: {value}', metadata_separator='\\n', text='CREATE TABLE [LMS_Loan_Master] (\\n\\t[Loan_Id] INTEGER NOT NULL IDENTITY(1,1), \\n\\t[Application_BranchId] INTEGER NOT NULL, \\n\\t[Application_No] VARCHAR(10) COLLATE SQL_Latin1_General_CP1_CI_AS NULL, \\n\\t[LoanAcNo] VARCHAR(10) COLLATE SQL_Latin1_General_CP1_CI_AS NULL, \\n\\t[Application_Status] VARCHAR(50) COLLATE SQL_Latin1_General_CP1_CI_AS NOT NULL, \\n\\t[Application_InquiryNo] VARCHAR(10) COLLATE SQL_Latin1_General_CP1_CI_AS NULL, \\n\\t[Application_PrductId] INTEGER NOT NULL, \\n\\t[Application_AssetCost] NUMERIC(18, 2) NULL, \\n\\t[Application_LoanAmount] NUMERIC(18, 2) NULL, \\n\\t[Application_LoanTenure] INTEGER NULL, \\n\\t[Application_LoanDuration_Month] INTEGER NULL, \\n\\t[Application_AdvInstl] INTEGER NULL, \\n\\t[Application_ManagementFee] NUMERIC(18, 2) NULL, \\n\\t[Application_DisbursementAmt] NUMERIC(18, 5) NULL, \\n\\t[Application_AgreementValue] NUMERIC(18, 5) NULL, \\n\\t[Application_InterestAmt] NUMERIC(18, 5) NULL, \\n\\t[Application_LTV] NUMERIC(18, 5) NULL, \\n\\t[Application_LoanEMIAmount] NUMERIC(18, 5) NULL, \\n\\t[Application_EMIType] VARCHAR(50) COLLATE SQL_Latin1_General_CP1_CI_AS NULL, \\n\\t[Application_LoanIRRate] NUMERIC(18, 10) NULL, \\n\\t[Application_IRR_Type] VARCHAR(10) COLLATE SQL_Latin1_General_CP1_CI_AS NULL, \\n\\t[Application_IRR_CalculateBy] VARCHAR(20) COLLATE SQL_Latin1_General_CP1_CI_AS NULL, \\n\\t[Application_Case_IRR] NUMERIC(18, 10) NULL, \\n\\t[Application_Disbursement_IRR] NUMERIC(18, 10) NULL, \\n\\t[Application_Loan_SchemeId] INTEGER NULL,', mimetype='text/plain', start_char_idx=9632, end_char_idx=11060, metadata_seperator='\\n', text_template='{metadata_str}\\n\\n{content}'), score=0.3932504730194504)], metadata={'0c4f0d9e-3d30-445a-9eb8-add1159c761f': {'file_path': '/home/tanay/db_reader2/src/db_reader/context/table_schema.txt', 'file_name': 'table_schema.txt', 'file_type': 'text/plain', 'file_size': 17091, 'creation_date': '2024-12-26', 'last_modified_date': '2024-12-26'}, '861dad12-f826-4707-8f20-96573461788f': {'file_path': '/home/tanay/db_reader2/src/db_reader/context/table_schema.txt', 'file_name': 'table_schema.txt', 'file_type': 'text/plain', 'file_size': 17091, 'creation_date': '2024-12-26', 'last_modified_date': '2024-12-26'}})\"\"\")"
   ]
  },
  {
   "cell_type": "code",
   "execution_count": null,
   "metadata": {},
   "outputs": [],
   "source": []
  }
 ],
 "metadata": {
  "kernelspec": {
   "display_name": ".venv",
   "language": "python",
   "name": "python3"
  },
  "language_info": {
   "codemirror_mode": {
    "name": "ipython",
    "version": 3
   },
   "file_extension": ".py",
   "mimetype": "text/x-python",
   "name": "python",
   "nbconvert_exporter": "python",
   "pygments_lexer": "ipython3",
   "version": "3.10.12"
  }
 },
 "nbformat": 4,
 "nbformat_minor": 2
}
