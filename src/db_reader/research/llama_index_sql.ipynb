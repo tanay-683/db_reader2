{
 "cells": [
  {
   "cell_type": "code",
   "execution_count": 1,
   "metadata": {},
   "outputs": [],
   "source": [
    "from sqlalchemy import create_engine\n",
    "import os\n",
    "\n",
    "SERVER:str = os.getenv(\"IP\")\n",
    "USERNAME: str = os.getenv(\"USERNAME\")\n",
    "PASSWORD: str = os.getenv(\"PASSWORD\")\n",
    "DATABASE: str = os.getenv(\"DATABASE_NAME\")\n",
    "ENCODED_PASSWORD: str = os.getenv(\"ENCODED_PASSWORD\")\n",
    "\n",
    "connection_uri = f'mssql+pymssql://{USERNAME}:{ENCODED_PASSWORD}@{SERVER}/{DATABASE}'\n",
    "engine = create_engine(connection_uri, pool_size=5, max_overflow=10)\n"
   ]
  },
  {
   "cell_type": "markdown",
   "metadata": {},
   "source": [
    "## Initialising Ollama llm"
   ]
  },
  {
   "cell_type": "code",
   "execution_count": 1,
   "metadata": {},
   "outputs": [],
   "source": [
    "from llama_index.llms.ollama import Ollama\n",
    "ollama_llm = Ollama(model=\"llama3.2:latest\", request_timeout=100)"
   ]
  },
  {
   "cell_type": "markdown",
   "metadata": {},
   "source": [
    "## initializing google gemini api model"
   ]
  },
  {
   "cell_type": "code",
   "execution_count": 56,
   "metadata": {},
   "outputs": [],
   "source": [
    "from llama_index.llms.gemini import Gemini\n",
    "import os\n",
    "\n",
    "gemini_llm = Gemini(\n",
    "    model=\"models/gemini-pro\",\n",
    "    api_key=os.getenv(\"GOOGLE_API_KEY\"),\n",
    ")\n"
   ]
  },
  {
   "cell_type": "code",
   "execution_count": 55,
   "metadata": {},
   "outputs": [
    {
     "name": "stdout",
     "output_type": "stream",
     "text": [
      "Backpack of wonders, secrets untold,\n",
      "Holds dreams and magic, stories unfold.\n",
      "Its depths a portal, to realms unknown,\n",
      "Where imagination's seeds are sown.\n"
     ]
    }
   ],
   "source": []
  },
  {
   "cell_type": "markdown",
   "metadata": {},
   "source": [
    "## LLAMA_INDEX SQL"
   ]
  },
  {
   "cell_type": "code",
   "execution_count": 25,
   "metadata": {},
   "outputs": [],
   "source": [
    "from llama_index.core import Settings\n",
    "# from llama_index.core.node_parser import SentenceSplitter\n",
    "from llama_index.llms.ollama import Ollama\n",
    "from llama_index.embeddings.huggingface import HuggingFaceEmbedding\n",
    "\n",
    "\n",
    "# Settings.node_parser = SentenceSplitter(chunk_size=512)"
   ]
  },
  {
   "cell_type": "code",
   "execution_count": 64,
   "metadata": {},
   "outputs": [],
   "source": [
    "Settings.llm = ollama_llm"
   ]
  },
  {
   "cell_type": "code",
   "execution_count": 58,
   "metadata": {},
   "outputs": [],
   "source": [
    "Settings.llm = gemini_llm\n"
   ]
  },
  {
   "cell_type": "code",
   "execution_count": 65,
   "metadata": {},
   "outputs": [
    {
     "data": {
      "text/plain": [
       "Ollama(callback_manager=<llama_index.core.callbacks.base.CallbackManager object at 0x7a4be20cd4b0>, system_prompt=None, messages_to_prompt=<function messages_to_prompt at 0x7a4be83ad750>, completion_to_prompt=<function default_completion_to_prompt at 0x7a4be47a2050>, output_parser=None, pydantic_program_mode=<PydanticProgramMode.DEFAULT: 'default'>, query_wrapper_prompt=None, base_url='http://localhost:11434', model='llama3.2:latest', temperature=0.75, context_window=3900, request_timeout=100.0, prompt_key='prompt', json_mode=False, additional_kwargs={}, is_function_calling_model=True, keep_alive=None)"
      ]
     },
     "execution_count": 65,
     "metadata": {},
     "output_type": "execute_result"
    }
   ],
   "source": [
    "Settings.llm"
   ]
  },
  {
   "cell_type": "code",
   "execution_count": 26,
   "metadata": {},
   "outputs": [],
   "source": [
    "Settings.embed_model = HuggingFaceEmbedding(model_name= \"sentence-transformers/all-mpnet-base-v2\")"
   ]
  },
  {
   "cell_type": "code",
   "execution_count": 27,
   "metadata": {},
   "outputs": [],
   "source": [
    "from llama_index.core import SQLDatabase\n",
    "\n",
    "sql_database = SQLDatabase(engine, include_tables=[\"Customer\", \"LMS_Loan_Master\"])"
   ]
  },
  {
   "cell_type": "code",
   "execution_count": 28,
   "metadata": {},
   "outputs": [],
   "source": [
    "# from llama_index.llms.ollama import Ollama\n",
    "# from llama_index.core.query_engine import NLSQLTableQueryEngine\n",
    "# from sqlalchemy import create_engine\n",
    "# import logging\n",
    "\n",
    "# def setup_nl_sql_engine(engine, model_name: str = \"llama2:latest\"):\n",
    "#     try:\n",
    "#         # Initialize Ollama LLM\n",
    "#         llm = Ollama(\n",
    "#             model=model_name,\n",
    "#             request_timeout=100\n",
    "#         )\n",
    "        \n",
    "#         # Setup database connection\n",
    "        \n",
    "#         # Initialize SQL database with specific tables\n",
    "#         sql_database = SQLDatabase(\n",
    "#             engine,\n",
    "#             include_tables=[\"Customer\", \"LMS_Loan_Master\"]\n",
    "#         )\n",
    "        \n",
    "#         # Create query engine\n",
    "#         query_engine = NLSQLTableQueryEngine(\n",
    "#             sql_database=sql_database,\n",
    "#             tables=[\"Customer\", \"LMS_Loan_Master\"],\n",
    "#             llm=llm\n",
    "#         )\n",
    "        \n",
    "#         return query_engine\n",
    "        \n",
    "#     except Exception as e:\n",
    "#         logging.error(f\"Error setting up NL-SQL engine: {str(e)}\")\n",
    "#         raise\n",
    "\n",
    "# def query_database(query_engine, question: str) -> str:\n",
    "#     try:\n",
    "#         response = query_engine.query(question)\n",
    "#         return str(response)\n",
    "#     except Exception as e:\n",
    "#         logging.error(f\"Error executing query: {str(e)}\")\n",
    "#         return f\"Error processing query: {str(e)}\"\n",
    "\n",
    "# # Example usage\n",
    "# if __name__ == \"__main__\":\n",
    "#     engine = setup_nl_sql_engine(engine)\n",
    "    \n",
    "#     questions = [\n",
    "#         \"which customer have loans more than 500000?\",\n",
    "#     ]\n",
    "    \n",
    "#     for question in questions:\n",
    "#         print(f\"Q: {question}\")\n",
    "#         print(f\"A: {query_database(engine, question)}\\n\")"
   ]
  },
  {
   "cell_type": "code",
   "execution_count": 97,
   "metadata": {},
   "outputs": [],
   "source": [
    "from llama_index.core.query_engine import NLSQLTableQueryEngine\n",
    "\n",
    "query_engine = NLSQLTableQueryEngine(\n",
    "    sql_database=sql_database, tables=[\"Customer\", \"LMS_Loan_Master\"], llm=gemini_llm\n",
    ")\n",
    "# query_str = \"show me all customers whose loan amount is greater than 500000\"\n",
    "query_str = \"lap loans between 2019 to 2020\"\n",
    "response = query_engine.query(query_str)\n"
   ]
  },
  {
   "cell_type": "code",
   "execution_count": 98,
   "metadata": {},
   "outputs": [
    {
     "name": "stdout",
     "output_type": "stream",
     "text": [
      "SELECT\n",
      "  Loan_Id,\n",
      "  Application_No,\n",
      "  Application_LoanAmount,\n",
      "  Application_LoanTenure,\n",
      "  Application_LoanEMIAmount,\n",
      "  Application_LoanIRRate,\n",
      "  Application_CreateOn\n",
      "FROM LMS_Loan_Master\n",
      "WHERE\n",
      "  Application_LoanPurpose = 'LAP' AND Application_CreateOn BETWEEN '2019-01-01' AND '2020-12-31'\n",
      "ORDER BY\n",
      "  Application_LoanAmount DESC;\n"
     ]
    }
   ],
   "source": [
    "print(response.metadata[\"sql_query\"])"
   ]
  },
  {
   "cell_type": "code",
   "execution_count": 66,
   "metadata": {},
   "outputs": [],
   "source": [
    "# from llama_index.core.indices.struct_store.sql_query import (\n",
    "#     SQLTableRetrieverQueryEngine,\n",
    "# )\n",
    "# from llama_index.core.objects import (\n",
    "#     SQLTableNodeMapping,\n",
    "#     ObjectIndex,\n",
    "#     SQLTableSchema,\n",
    "# )\n",
    "# from llama_index.core import VectorStoreIndex\n",
    "\n",
    "# # set Logging to DEBUG for more detailed outputs\n",
    "# table_node_mapping = SQLTableNodeMapping(sql_database)\n",
    "# table_schema_objs = [\n",
    "#     (SQLTableSchema(table_name=\"Customer\", table_node_mapping=table_node_mapping)),\n",
    "# ]  # add a SQLTableSchema for each table\n",
    "\n",
    "# obj_index = ObjectIndex.from_objects(\n",
    "#     table_schema_objs,\n",
    "#     table_node_mapping,\n",
    "#     VectorStoreIndex,\n",
    "# )\n",
    "# query_engine = SQLTableRetrieverQueryEngine(\n",
    "#     sql_database, obj_index.as_retriever(similarity_top_k=4, llm = Settings.llm), \n",
    "# )"
   ]
  },
  {
   "cell_type": "code",
   "execution_count": 70,
   "metadata": {},
   "outputs": [],
   "source": [
    "# response = query_engine.query(\"show me loans which have loan amount greater than 500000\")\n",
    "response = query_engine.query(\"show me all male customers\")"
   ]
  },
  {
   "cell_type": "code",
   "execution_count": 99,
   "metadata": {},
   "outputs": [],
   "source": [
    "# print(response.response)"
   ]
  },
  {
   "cell_type": "code",
   "execution_count": 86,
   "metadata": {},
   "outputs": [
    {
     "name": "stdout",
     "output_type": "stream",
     "text": [
      "{'19a0f0e0-d231-41f2-a0fe-4b5f8df5a7bd': {}, 'sql_query': \"SELECT DISTINCT `Customer_FirstName`, `Customer_LastName` FROM `Customer` WHERE `Customer_Gender` = 'M'\"}\n"
     ]
    }
   ],
   "source": [
    "# print(str(response.metadata))"
   ]
  },
  {
   "cell_type": "code",
   "execution_count": 100,
   "metadata": {},
   "outputs": [],
   "source": [
    "# response.metadata[\"sql_query\"]"
   ]
  },
  {
   "cell_type": "code",
   "execution_count": 101,
   "metadata": {},
   "outputs": [],
   "source": [
    "# sql_query = response.metadata[\"sql_query\"]"
   ]
  },
  {
   "cell_type": "markdown",
   "metadata": {},
   "source": [
    "# query Tester"
   ]
  },
  {
   "cell_type": "code",
   "execution_count": 2,
   "metadata": {},
   "outputs": [],
   "source": [
    "from sqlalchemy import text\n",
    "\n",
    "with engine.connect() as con:\n",
    "    rows = con.execute(text(\"\"\"\n",
    "    SELECT\n",
    "  Loan_Id,\n",
    "  LoanAcNo,\n",
    "  LoanClosed_Date\n",
    "FROM LMS_Loan_Master\n",
    "WHERE\n",
    "  LoanClosed_Date BETWEEN '2024-05-01' AND '2024-09-30';\n",
    "    \"\"\"))\n",
    "    for row in rows:\n",
    "        print(row)"
   ]
  },
  {
   "cell_type": "markdown",
   "metadata": {},
   "source": []
  },
  {
   "cell_type": "code",
   "execution_count": null,
   "metadata": {},
   "outputs": [],
   "source": [
    "\"\"\"\n",
    "SELECT\n",
    "  Customer.Customer_FirstName,\n",
    "  Customer.Customer_LastName,\n",
    "  LMS_Loan_Master.Application_No,\n",
    "  LMS_Loan_Master.Application_InterestAmt\n",
    "FROM Customer\n",
    "JOIN LMS_Loan_Master\n",
    "  ON Customer.CustomerId = LMS_Loan_Master.Application_Account_CustomerId\n",
    "WHERE\n",
    "  LMS_Loan_Master.Application_Status = 'Closed';\n",
    "  \"\"\""
   ]
  },
  {
   "cell_type": "code",
   "execution_count": null,
   "metadata": {},
   "outputs": [],
   "source": [
    "SELECT\n",
    "  Customer.Customer_FirstName,\n",
    "  Customer.Customer_LastName,\n",
    "  LMS_Loan_Master.Application_LoanAmount,\n",
    "  LMS_Loan_Master.Application_InterestAmt,\n",
    "  LMS_Loan_Master.LoanClosed_Date\n",
    "FROM Customer\n",
    "JOIN LMS_Loan_Master\n",
    "  ON Customer.CustomerId = LMS_Loan_Master.Application_Account_CustomerId\n",
    "WHERE\n",
    "  LMS_Loan_Master.LoanClosed_Date IS NOT NULL\n",
    "ORDER BY\n",
    "  LMS_Loan_Master.LoanClosed_Date DESC;\n"
   ]
  },
  {
   "cell_type": "code",
   "execution_count": null,
   "metadata": {},
   "outputs": [],
   "source": [
    "SELECT\n",
    "  c.Customer_FirstName,\n",
    "  c.Customer_LastName,\n",
    "  l.Application_LoanAmount,\n",
    "  l.Application_InterestAmt,\n",
    "  l.LoanClosed_Date\n",
    "FROM Customer AS c\n",
    "JOIN LMS_Loan_Master AS l\n",
    "  ON c.CustomerId = l.Application_Account_CustomerId\n",
    "WHERE\n",
    "  l.LoanClosed_Date BETWEEN '2022-06-01' AND '2023-04-30';"
   ]
  },
  {
   "cell_type": "code",
   "execution_count": null,
   "metadata": {},
   "outputs": [],
   "source": [
    "SELECT\n",
    "  CaseNo,\n",
    "  Amount\n",
    "FROM Acc_Voucher_Details\n",
    "WHERE\n",
    "  Amount = 1500 AND TranType = 'DR' AND CaseNo BETWEEN '4595' AND '4486';"
   ]
  },
  {
   "cell_type": "code",
   "execution_count": 1,
   "metadata": {},
   "outputs": [],
   "source": [
    "import os\n",
    "from dataclasses import dataclass\n",
    "\n",
    "@dataclass\n",
    "class SqlConnetionConfig:\n",
    "    CONNECTION_URI: str\n"
   ]
  },
  {
   "cell_type": "code",
   "execution_count": 7,
   "metadata": {},
   "outputs": [],
   "source": [
    "from sqlalchemy import create_engine\n",
    "class SqlConnection:\n",
    "    def __init__(self):\n",
    "        pass\n",
    "    \n",
    "    def establish_connection(self):\n",
    "        connection_config = SqlConnetionConfig(\n",
    "            CONNECTION_URI = f\"\"\"mssql+pymssql://{os.getenv(\"USERNAME\")}:{os.getenv(\"ENCODED_PASSWORD\")}@{os.getenv(\"IP\")}/{os.getenv(\"DATABASE_NAME\")}\"\"\"\n",
    "            )\n",
    "        \n",
    "        engine = create_engine(connection_config.CONNECTION_URI, pool_size=5, max_overflow=10)\n",
    "        return engine"
   ]
  },
  {
   "cell_type": "code",
   "execution_count": 8,
   "metadata": {},
   "outputs": [],
   "source": [
    "sql_conn = SqlConnection()"
   ]
  },
  {
   "cell_type": "code",
   "execution_count": 9,
   "metadata": {},
   "outputs": [],
   "source": [
    "engine = sql_conn.establish_connection()"
   ]
  },
  {
   "cell_type": "code",
   "execution_count": 33,
   "metadata": {},
   "outputs": [
    {
     "name": "stderr",
     "output_type": "stream",
     "text": [
      "ERROR:root:Connection failed\n"
     ]
    }
   ],
   "source": [
    "from sqlalchemy import text\n",
    "import sys, logging\n",
    "try:\n",
    "    with engine.connect() as con:\n",
    "        rows = con.execute(text(\"\"\"\n",
    "        SELECT lakfnek\n",
    "        \"\"\"))\n",
    "        for row in rows:\n",
    "            if sys.getsizeof(row) != 0:\n",
    "                logging.info(\"Connection established\")\n",
    "except:\n",
    "    logging.error(\"Connection failed\")"
   ]
  },
  {
   "cell_type": "code",
   "execution_count": 34,
   "metadata": {},
   "outputs": [
    {
     "name": "stdout",
     "output_type": "stream",
     "text": [
      "Connection established\n"
     ]
    }
   ],
   "source": [
    "if engine:\n",
    "    print(\"Connection established\")"
   ]
  },
  {
   "cell_type": "code",
   "execution_count": null,
   "metadata": {},
   "outputs": [],
   "source": []
  }
 ],
 "metadata": {
  "kernelspec": {
   "display_name": ".venv",
   "language": "python",
   "name": "python3"
  },
  "language_info": {
   "codemirror_mode": {
    "name": "ipython",
    "version": 3
   },
   "file_extension": ".py",
   "mimetype": "text/x-python",
   "name": "python",
   "nbconvert_exporter": "python",
   "pygments_lexer": "ipython3",
   "version": "3.10.12"
  }
 },
 "nbformat": 4,
 "nbformat_minor": 2
}
